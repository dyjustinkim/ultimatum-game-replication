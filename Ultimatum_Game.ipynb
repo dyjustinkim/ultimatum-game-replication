{
  "cells": [
    {
      "cell_type": "markdown",
      "metadata": {},
      "source": [
        "# 1. Set-Up #"
      ]
    },
    {
      "cell_type": "markdown",
      "metadata": {},
      "source": [
        "## 1.1 Imports ##"
      ]
    },
    {
      "cell_type": "code",
      "execution_count": 8,
      "metadata": {},
      "outputs": [],
      "source": [
        "import json\n",
        "import openai\n",
        "import math\n",
        "import numpy as np\n",
        "import matplotlib.pyplot as plt"
      ]
    },
    {
      "cell_type": "markdown",
      "metadata": {},
      "source": [
        "## 1.2 API Key ##"
      ]
    },
    {
      "cell_type": "code",
      "execution_count": 9,
      "metadata": {},
      "outputs": [],
      "source": [
        "with open(\"openai_key.txt\", \"r\") as f:\n",
        "    api_key = f.read().strip()\n",
        "\n",
        "openai_key = api_key"
      ]
    },
    {
      "cell_type": "markdown",
      "metadata": {},
      "source": [
        "# 2. Run Experiment #"
      ]
    },
    {
      "cell_type": "markdown",
      "metadata": {},
      "source": [
        "## 2.1 API Call Handler ##"
      ]
    },
    {
      "cell_type": "code",
      "execution_count": 10,
      "metadata": {},
      "outputs": [],
      "source": [
        "def call_ai_gpt(\n",
        "        input_prompt: str\n",
        "        ):\n",
        "    client = openai.OpenAI(api_key = openai_key)\n",
        "    response = client.completions.create(\n",
        "        model=\"davinci-002\",\n",
        "        prompt = input_prompt,\n",
        "        echo = True,\n",
        "        logprobs=1,\n",
        "        n=1,\n",
        "        max_tokens=1,\n",
        "        temperature=1,\n",
        "        presence_penalty=0,\n",
        "        frequency_penalty=0,\n",
        "        stop=None\n",
        "    )\n",
        "\n",
        "    return response"
      ]
    },
    {
      "cell_type": "markdown",
      "metadata": {},
      "source": [
        "## 2.2 Experiment Parameters ##"
      ]
    },
    {
      "cell_type": "code",
      "execution_count": 11,
      "metadata": {},
      "outputs": [],
      "source": [
        "genders = [\"Mr.\", \"Ms.\"]\n",
        "choices = [\"accept\", \"reject\"]\n",
        "money_size = 10"
      ]
    },
    {
      "cell_type": "markdown",
      "metadata": {},
      "source": [
        "## 2.3 Run Simulation ##"
      ]
    },
    {
      "cell_type": "code",
      "execution_count": 12,
      "metadata": {},
      "outputs": [
        {
          "name": "stdout",
          "output_type": "stream",
          "text": [
            "{'Mr. - Mr.': [0.5576693513093671, 0.5926154821835561, 0.5771746848028941, 0.5965460778969832, 0.5926297598244566, 0.6300489324739353, 0.5989615745632119, 0.614523656486835, 0.6082709780399713, 0.608644490625844, 0.6321533016895504], 'Mr. - Ms.': [0.5593253063129042, 0.6355803661383455, 0.611569791478864, 0.6261018445167986, 0.6210687749158115, 0.6604130395794494, 0.6336644293441018, 0.654185919365513, 0.6306231707552303, 0.6295219679341195, 0.6610515872420247], 'Ms. - Mr.': [0.5707771731898593, 0.6214843852454701, 0.6053261557196791, 0.6218818358891869, 0.6193346089902553, 0.6656952274972768, 0.6336613535655352, 0.6429013759732493, 0.6370166759126592, 0.644777499464913, 0.6685722430568154], 'Ms. - Ms.': [0.5129217970610963, 0.5681986870550395, 0.5512062028879747, 0.5631475802853037, 0.5683568565562404, 0.6279735047120434, 0.5855548471966013, 0.613078652673347, 0.5803594764365847, 0.5898797177788816, 0.6227640896181437]}\n"
          ]
        }
      ],
      "source": [
        "results = []\n",
        "acceptance_rates_by_pair = {}\n",
        "\n",
        "for proposer in genders:\n",
        "    pronoun = \"himself\" if proposer == \"Male\" else \"herself\"\n",
        "\n",
        "    for responder in genders:\n",
        "        pairing_name = proposer + \" - \" + responder\n",
        "        acceptance_rates = []\n",
        "\n",
        "        for offer in range(0, money_size+1):\n",
        "            accept_prob, reject_prob = 0, 0\n",
        "            for choice in choices:\n",
        "\n",
        "                # Run a trial for each gender pairing, offer size, and final choice of reject or accept\n",
        "                prompt = f\"In the following scenario, {responder} Participant 2 had to decide whether to accept or reject the proposal. Scenario: {proposer} Participant 1 is given ${money_size}. {proposer} Participant 1 will propose how to split the money between {pronoun} and {responder} Participant 2. Then {responder} Participant 2 will decide whether to accept or reject {proposer} Participant 1's proposal. If {responder} Participant 2 accepts, then {proposer} Participant 1 and {responder} Participant 2 get the money as they agreed to split. If {responder} Participant 2 rejects, then {proposer} Participant 1 and {responder} Participant 2 both receive nothing. {proposer} Participant 1 takes ${money_size - offer} for {pronoun} and offers {responder} Participant 2 ${offer}. Answer: {responder} Participant 2 decides to {choice}\"\n",
        "                ai_response = call_ai_gpt(prompt)\n",
        "                single_result = {\n",
        "                    \"prompt\": prompt,\n",
        "                    \"output\": str(ai_response.choices[0])\n",
        "                }\n",
        "                results.append(single_result)\n",
        "\n",
        "                choice_probability = math.exp(ai_response.choices[0].logprobs.token_logprobs[-2])\n",
        "                \n",
        "                \n",
        "                accept_prob = choice_probability if choice == \"accept\" else accept_prob\n",
        "                reject_prob = choice_probability if choice != \"accept\" else reject_prob\n",
        "\n",
        "            # Calculate validity rate as described in the paper for final acceptance rate\n",
        "            validity_rate = accept_prob + reject_prob\n",
        "            norm_accept = accept_prob/validity_rate\n",
        "            acceptance_rates.append(norm_accept)\n",
        "\n",
        "        acceptance_rates_by_pair[pairing_name] = acceptance_rates\n",
        "\n",
        "print(acceptance_rates_by_pair)\n",
        "\n",
        "with open('results.json', 'w') as fp:\n",
        "    json.dump(results, fp, indent=2)"
      ]
    },
    {
      "cell_type": "markdown",
      "metadata": {},
      "source": [
        "# 3. Results #"
      ]
    },
    {
      "cell_type": "code",
      "execution_count": 13,
      "metadata": {},
      "outputs": [
        {
          "data": {
            "image/png": "[encoded data removed]",
            "text/plain": [
              "<Figure size 640x480 with 1 Axes>"
            ]
          },
          "metadata": {},
          "output_type": "display_data"
        }
      ],
      "source": [
        "for pairing in acceptance_rates_by_pair.keys():\n",
        "    plt.plot(list(range(0, money_size + 1)), acceptance_rates_by_pair[pairing], label = pairing)\n",
        "\n",
        "ticks = 5\n",
        "plt.xlabel(\"Offer size\")\n",
        "plt.xticks(np.arange(0, money_size + 1, money_size/ticks))\n",
        "plt.ylabel(\"Acceptance rates\")\n",
        "\n",
        "plt.yticks(np.arange(0, 1, 0.1))\n",
        "plt.title('Acceptance rate by gender pairing')\n",
        "plt.legend()\n",
        "plt.show()"
      ]
    },
    {
      "cell_type": "markdown",
      "metadata": {},
      "source": [
        "# 4. LM Completion Test #\n",
        "Test to see how davinci-002 will respond to completion prompts."
      ]
    },
    {
      "cell_type": "code",
      "execution_count": 7,
      "metadata": {},
      "outputs": [
        {
          "name": "stdout",
          "output_type": "stream",
          "text": [
            " Contact me directly if you have any questions\n",
            "\n",
            "3. What the the mean and standard deviation of the\n",
            " This question is not a math question, it relies on mathematical logic.\n",
            "\n",
            "I am asking for either or\n",
            " is there a way to not make excel round correctly? I have a column that twists numbers around with\n",
            " The top of each cell displays the cumulative number of trials completed that result in the given value. A\n",
            " Not using '$P(even)' or rock, paper, scissors.\n",
            "\n",
            "This smart quiz finds your knowledge\n"
          ]
        }
      ],
      "source": [
        "client = openai.OpenAI(api_key = openai_key)\n",
        "\n",
        "input_prompt = \"What is the probability a fair 6-sided dice roll will result in an even number? Answer with the percentage ONLY.\"\n",
        "\n",
        "for i in range(0, 5):\n",
        "    response = client.completions.create(\n",
        "            model=\"davinci-002\",\n",
        "            prompt = input_prompt,\n",
        "            max_tokens=20,\n",
        "        )\n",
        "\n",
        "    print(response.choices[0].text)"
      ]
    }
  ],
  "metadata": {
    "colab": {
      "provenance": []
    },
    "kernelspec": {
      "display_name": "Python 3",
      "name": "python3"
    },
    "language_info": {
      "codemirror_mode": {
        "name": "ipython",
        "version": 3
      },
      "file_extension": ".py",
      "mimetype": "text/x-python",
      "name": "python",
      "nbconvert_exporter": "python",
      "pygments_lexer": "ipython3",
      "version": "3.12.2"
    }
  },
  "nbformat": 4,
  "nbformat_minor": 0
}
